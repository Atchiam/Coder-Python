{
  "nbformat": 4,
  "nbformat_minor": 0,
  "metadata": {
    "colab": {
      "name": "MiPrimerProgramaEnPython.Ferreyra.ipynb",
      "provenance": [],
      "collapsed_sections": []
    },
    "kernelspec": {
      "name": "python3",
      "display_name": "Python 3"
    },
    "language_info": {
      "name": "python"
    }
  },
  "cells": [
    {
      "cell_type": "code",
      "execution_count": null,
      "metadata": {
        "id": "Z7Yx_5xErPvc",
        "colab": {
          "base_uri": "https://localhost:8080/"
        },
        "outputId": "c09fd96f-7a7e-48c0-b9e1-4b099ccc864e"
      },
      "outputs": [
        {
          "output_type": "stream",
          "name": "stdout",
          "text": [
            "nombre: braian\n",
            "primera nota: 10\n",
            "segunda nota: 10\n",
            "El estudiante braian obtuvo una nota de 10 en su primera evaluacion y 10 en la segunda estancia, dando como resultado una nota de 5.0 en su nota final\n"
          ]
        }
      ],
      "source": [
        "#MiPrimerProgramaEnPython \n",
        "\"\"\"\n",
        "Consigna: Crear un programa para calcular la nota final del estudiante en base a dos exámenes, los exámenes cuentan con un porcentaje distinto de la nota final\n",
        "nota_1  cuenta como el 40% de la nota final\n",
        "nota_2 cuenta como el 60% de la nota final\n",
        ">>Aspectos a incluir en el entregable:\n",
        "Tener en cuenta los temas vistos en la clase 1: números, print, input, variables, operaciones matemáticas, cadena de texto. \n",
        ">>Aspectos a tener en cuenta:\n",
        "Los datos deben guardarse en variables y deben ser dinámicos por medio de input.\n",
        "\"\"\"\n",
        "nombre_user1 = input (\"nombre: \")\n",
        "nota1_user1 = int (input (\"primera nota: \"))\n",
        "nota2_user1 = int (input (\"segunda nota: \"))\n",
        "print(\"El estudiante\", nombre_user1,\"obtuvo una nota de\", nota1_user1, \"en su primera evaluacion y\", nota2_user1, \"en la segunda estancia, dando como resultado una nota de\", nota1_user1*0.4 + nota2_user1*0.6, \"en su nota final\")\n",
        "\n"
      ]
    }
  ]
}